{
 "cells": [
  {
   "cell_type": "markdown",
   "id": "b6773a64",
   "metadata": {},
   "source": [
    "## Test your connection"
   ]
  },
  {
   "cell_type": "markdown",
   "id": "17d1b8d7",
   "metadata": {},
   "source": [
    "After you install TWS, you need to change some settings. Navigate to Trader Workstation Configuration under Edit –> Global Configuration –> API –> Settings."
   ]
  },
  {
   "cell_type": "markdown",
   "id": "b363545d",
   "metadata": {},
   "source": [
    "Make sure to check ***Enable ActiveX and Socket Clients***. Check ***Read-Only API*** if you want extra protection against sending orders to IB. Lastly, check *Allow connections from localhost only* for security.\n",
    "\n",
    "Make note of the *Socket port* which you’ll need to connect through Python. Depending on the version, it’s either **7497** or **7496**."
   ]
  },
  {
   "cell_type": "markdown",
   "id": "c854eaf4",
   "metadata": {},
   "source": [
    "After you log in to TWS, you can connect to IB. Make sure you change the socket port number in the function `app.connect` if needed. The first parameter is the IP address of your local computer (i.e. localhost). Leave this as is. The second is the port you socket port you configured in TWS. Change this if it differs from TWS. The third parameter is a unique client ID. You can change this to any positive integer."
   ]
  },
  {
   "cell_type": "code",
   "execution_count": 2,
   "id": "0a0929e7",
   "metadata": {},
   "outputs": [],
   "source": [
    "from ibapi.client import EClient\n",
    "from ibapi.wrapper import EWrapper"
   ]
  },
  {
   "cell_type": "code",
   "execution_count": 3,
   "id": "06df292f",
   "metadata": {},
   "outputs": [],
   "source": [
    "class IBapi(EWrapper, EClient):\n",
    "     def __init__(self):\n",
    "         EClient.__init__(self, self)"
   ]
  },
  {
   "cell_type": "code",
   "execution_count": null,
   "id": "e8a55219",
   "metadata": {},
   "outputs": [
    {
     "name": "stderr",
     "output_type": "stream",
     "text": [
      "ERROR -1 2104 Market data farm connection is OK:uscrypto\n",
      "ERROR -1 2104 Market data farm connection is OK:usfarm.nj\n",
      "ERROR -1 2104 Market data farm connection is OK:eufarm\n",
      "ERROR -1 2104 Market data farm connection is OK:usfuture\n",
      "ERROR -1 2104 Market data farm connection is OK:usopt\n",
      "ERROR -1 2104 Market data farm connection is OK:usfarm\n",
      "ERROR -1 2106 HMDS data farm connection is OK:ushmds\n",
      "ERROR -1 2158 Sec-def data farm connection is OK:secdefil\n"
     ]
    }
   ],
   "source": [
    "app = IBapi()\n",
    "app.connect(\"127.0.0.1\", 7496, 123)\n",
    "app.run()\n",
    "\n",
    "# Uncomment this section if unable to connect\n",
    "# import time\n",
    "# time.sleep(2)\n",
    "# app.disconnect()"
   ]
  },
  {
   "cell_type": "markdown",
   "id": "a3aa54e4",
   "metadata": {},
   "source": [
    "If you’re not getting output, change the client ID and try again. If that doesn’t work, uncomment the last three lines the script. If that doesn’t work, investigate based on the log output."
   ]
  },
  {
   "cell_type": "code",
   "execution_count": null,
   "id": "c960f8cb",
   "metadata": {},
   "outputs": [],
   "source": []
  }
 ],
 "metadata": {
  "kernelspec": {
   "display_name": "Python 3 (ipykernel)",
   "language": "python",
   "name": "python3"
  },
  "language_info": {
   "codemirror_mode": {
    "name": "ipython",
    "version": 3
   },
   "file_extension": ".py",
   "mimetype": "text/x-python",
   "name": "python",
   "nbconvert_exporter": "python",
   "pygments_lexer": "ipython3",
   "version": "3.9.13"
  }
 },
 "nbformat": 4,
 "nbformat_minor": 5
}
